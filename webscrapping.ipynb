{
  "nbformat": 4,
  "nbformat_minor": 0,
  "metadata": {
    "colab": {
      "provenance": [],
      "authorship_tag": "ABX9TyOBXIpSOwateXjaRrWAWTnk",
      "include_colab_link": true
    },
    "kernelspec": {
      "name": "python3",
      "display_name": "Python 3"
    },
    "language_info": {
      "name": "python"
    }
  },
  "cells": [
    {
      "cell_type": "markdown",
      "metadata": {
        "id": "view-in-github",
        "colab_type": "text"
      },
      "source": [
        "<a href=\"https://colab.research.google.com/github/ayoubERREBi/Web-Mining/blob/main/webscrapping.ipynb\" target=\"_parent\"><img src=\"https://colab.research.google.com/assets/colab-badge.svg\" alt=\"Open In Colab\"/></a>"
      ]
    },
    {
      "cell_type": "code",
      "execution_count": null,
      "metadata": {
        "id": "ASZUJuxEjlZ7"
      },
      "outputs": [],
      "source": [
        "from bs4 import BeautifulSoup as bs\n",
        "from urllib.request import urlopen"
      ]
    },
    {
      "cell_type": "code",
      "source": [
        "url =\"https://wuzzuf.net/search/jobs/?q=data+science&a=hpb\"\n",
        "# url1=\"https://wuzzuf.net/search/jobs/?a=hpb&q=data%20science&start=1\"\n",
        "# url2=\"https://wuzzuf.net/search/jobs/?a=hpb&q=data%20science&start=2\"\n",
        "#robot.txt  empeche scrapping"
      ],
      "metadata": {
        "id": "UvKP18Q3k9IX"
      },
      "execution_count": null,
      "outputs": []
    },
    {
      "cell_type": "markdown",
      "source": [
        "create a client-based Request to Get the URL"
      ],
      "metadata": {
        "id": "QkPD_vxTNVtx"
      }
    },
    {
      "cell_type": "code",
      "source": [
        "client=urlopen(url)"
      ],
      "metadata": {
        "id": "UxuYK5ESMiA1"
      },
      "execution_count": null,
      "outputs": []
    },
    {
      "cell_type": "markdown",
      "source": [
        "Getting the HTML code of the Full Page"
      ],
      "metadata": {
        "id": "OiULEsRwNgVn"
      }
    },
    {
      "cell_type": "code",
      "source": [
        "html=client.read()"
      ],
      "metadata": {
        "id": "tiDSZmJqNJKU"
      },
      "execution_count": null,
      "outputs": []
    },
    {
      "cell_type": "code",
      "source": [
        "# html"
      ],
      "metadata": {
        "id": "u-AZkTEONwZe"
      },
      "execution_count": null,
      "outputs": []
    },
    {
      "cell_type": "code",
      "source": [
        "#closing the request\n",
        "client.close()"
      ],
      "metadata": {
        "id": "3HuhLXUMQIEx"
      },
      "execution_count": null,
      "outputs": []
    },
    {
      "cell_type": "markdown",
      "source": [
        "creating an HTML Parser Using BeautifulSoup"
      ],
      "metadata": {
        "id": "51-9QMDsQTHY"
      }
    },
    {
      "cell_type": "code",
      "source": [
        "soup = bs(html,\"html.parser\")\n",
        "# soup"
      ],
      "metadata": {
        "id": "Zasyh-07QQCc"
      },
      "execution_count": null,
      "outputs": []
    },
    {
      "cell_type": "markdown",
      "source": [
        "creating container for the needed data"
      ],
      "metadata": {
        "id": "gCjtYPgFSFvS"
      }
    },
    {
      "cell_type": "code",
      "source": [
        "container=soup.find_all(\"div\",{\"class\",\"css-1gatmva e1v1l3u10\"})\n",
        "len(container)"
      ],
      "metadata": {
        "colab": {
          "base_uri": "https://localhost:8080/"
        },
        "id": "S9utrRtKSE6A",
        "outputId": "4329a2ae-46a8-4e63-f9a9-d09849f97d27"
      },
      "execution_count": null,
      "outputs": [
        {
          "output_type": "execute_result",
          "data": {
            "text/plain": [
              "15"
            ]
          },
          "metadata": {},
          "execution_count": 135
        }
      ]
    },
    {
      "cell_type": "code",
      "source": [
        "# bs.prettify(container[0])"
      ],
      "metadata": {
        "id": "zOU9lSJGWtQg"
      },
      "execution_count": null,
      "outputs": []
    },
    {
      "cell_type": "markdown",
      "source": [
        "accessing page elements"
      ],
      "metadata": {
        "id": "0lvgZH-bXClL"
      }
    },
    {
      "cell_type": "code",
      "source": [
        "#getting first title\n",
        "container[0].div.h2.text"
      ],
      "metadata": {
        "colab": {
          "base_uri": "https://localhost:8080/",
          "height": 35
        },
        "id": "S4fWH4ERXBJe",
        "outputId": "cc74de98-a2cf-4194-8c64-745f06520a4f"
      },
      "execution_count": null,
      "outputs": [
        {
          "output_type": "execute_result",
          "data": {
            "text/plain": [
              "'Data Science Instructor'"
            ],
            "application/vnd.google.colaboratory.intrinsic+json": {
              "type": "string"
            }
          },
          "metadata": {},
          "execution_count": 64
        }
      ]
    },
    {
      "cell_type": "code",
      "source": [
        "jobTitle=container[0].findAll(\"h2\",{\"class\":\"css-1gatmva e1v1l3u10\"})"
      ],
      "metadata": {
        "id": "WuAmOfdrXtsF"
      },
      "execution_count": null,
      "outputs": []
    },
    {
      "cell_type": "code",
      "source": [
        "company_name=container[0].findAll(\"a\",{\"class\",\"css-17s97q8\"})\n",
        "company_name[0].text"
      ],
      "metadata": {
        "colab": {
          "base_uri": "https://localhost:8080/",
          "height": 35
        },
        "id": "dlJBjSr8Z3F1",
        "outputId": "12f3c451-fc16-4064-fe44-736a21a22c21"
      },
      "execution_count": null,
      "outputs": [
        {
          "output_type": "execute_result",
          "data": {
            "text/plain": [
              "'EpsilonAI -'"
            ],
            "application/vnd.google.colaboratory.intrinsic+json": {
              "type": "string"
            }
          },
          "metadata": {},
          "execution_count": 73
        }
      ]
    },
    {
      "cell_type": "code",
      "source": [
        "file=open(\"wazzuf-datascience.csv\",\"a\")"
      ],
      "metadata": {
        "id": "HPo05kJpsVjS"
      },
      "execution_count": null,
      "outputs": []
    },
    {
      "cell_type": "markdown",
      "source": [
        "britting all together"
      ],
      "metadata": {
        "id": "W3LsG6PbanO8"
      }
    },
    {
      "cell_type": "code",
      "source": [
        "header= \"job_title, company_name ,job_type \\n\"\n",
        "file.write(header)"
      ],
      "metadata": {
        "colab": {
          "base_uri": "https://localhost:8080/"
        },
        "id": "JvijNUdwakns",
        "outputId": "cc7057a8-3fe5-4b29-a15a-cee957988995"
      },
      "execution_count": null,
      "outputs": [
        {
          "output_type": "execute_result",
          "data": {
            "text/plain": [
              "35"
            ]
          },
          "metadata": {},
          "execution_count": 126
        }
      ]
    },
    {
      "cell_type": "code",
      "source": [
        "def echapper_virgule(chaine):\n",
        "    if ',' in chaine:\n",
        "        chaine = chaine.replace(',', r';')  # échapper la virgule avec la barre oblique inversée\n",
        "    return chaine"
      ],
      "metadata": {
        "id": "wZFPKxS2kIHR"
      },
      "execution_count": null,
      "outputs": []
    },
    {
      "cell_type": "code",
      "source": [
        "for container_i in container:\n",
        "  jtitle=container_i.findAll(\"h2\",{\"class\",\"css-m604qf\"})\n",
        "  jobtitle=jtitle[0].text.strip()\n",
        "  jobtitle=echapper_virgule(jobtitle)\n",
        "\n",
        "  cname=container_i.findAll(\"a\",{\"class\",\"css-17s97q8\"})\n",
        "  cmpname=cname[0].text.strip()\n",
        "  cmpname=echapper_virgule(cmpname)\n",
        "\n",
        "  jtype= container_i.findAll(\"div\",{\"class\",\"css-1lh32fc\"})\n",
        "  jbtype=jtype[0].text.strip()\n",
        "  jbtype=echapper_virgule(jbtype)\n",
        "\n",
        "  file.write(jobtitle+\",\"+cmpname+\",\"+jbtype+\"\\n\")\n",
        "file.close()\n",
        "\n"
      ],
      "metadata": {
        "id": "fdCVE6r1bxAn"
      },
      "execution_count": null,
      "outputs": []
    },
    {
      "cell_type": "code",
      "source": [
        "import pandas as pd\n",
        "\n",
        "pd.read_csv(\"wazzuf-datascience.csv\")"
      ],
      "metadata": {
        "colab": {
          "base_uri": "https://localhost:8080/",
          "height": 1000
        },
        "id": "rJVh0kafmKMR",
        "outputId": "2328bf7c-c06f-494d-956e-bbdcc1521c91"
      },
      "execution_count": null,
      "outputs": [
        {
          "output_type": "execute_result",
          "data": {
            "text/plain": [
              "                                            job_title  \\\n",
              "0                       SENIOR DATA WAREHOUSE ANALYST   \n",
              "1   Data Analysis/Analytics Instructor (Excel - Po...   \n",
              "2   Data Engineer | Corporate Services | Data AI A...   \n",
              "3   Data Engineer | Corporate Services | Data AI A...   \n",
              "4                                      Data Analytics   \n",
              "5                                       Data Engineer   \n",
              "6                         Data Analyst - Saudi Arabia   \n",
              "7                                        Data Analyst   \n",
              "8   Project Manager - Data Center Design/Construction   \n",
              "9                                      Data Analytics   \n",
              "10                           Head of Data & Analytics   \n",
              "11                                    Science Teacher   \n",
              "12                                Senior Data Analyst   \n",
              "13                                 Salesforce Analyst   \n",
              "14                   Senior Outsystems Developer -UAE   \n",
              "15                            Data Science Instructor   \n",
              "16          Faculty - Data Science and Cyber Security   \n",
              "17                   Assistant Manager - Data Science   \n",
              "18                             master Data Supervisor   \n",
              "19                                Group Data Engineer   \n",
              "20                                      Data Engineer   \n",
              "21                                       Data Analyst   \n",
              "22                            Data Engineering intern   \n",
              "23          Data Manager / Documents Controller (m/f)   \n",
              "24                                      Data Engineer   \n",
              "25                                      Data Engineer   \n",
              "26                                Junior Data Analyst   \n",
              "27                              Architect & Data Lead   \n",
              "28  Solution Architect / Solution Designer - Data;...   \n",
              "29                                 Data Engineer lead   \n",
              "\n",
              "                                        company_name   \\\n",
              "0   King Faisal Specialist Hospital & Research Cen...   \n",
              "1                                         EpsilonAI -   \n",
              "2                               Dubai Festival City -   \n",
              "3                Al Futtaim Group - Other locations -   \n",
              "4                                               DXC -   \n",
              "5                                       Carina Wear -   \n",
              "6                                  peroptyx network -   \n",
              "7                                             ITCan -   \n",
              "8                   Jones Lang LaSalle Incorporated -   \n",
              "9                                    DXC.technology -   \n",
              "10                                          eVision -   \n",
              "11                   Nefertari International School -   \n",
              "12                                         Sceel.io -   \n",
              "13                        ManpowerGroup Middle East -   \n",
              "14                                 LINK Development -   \n",
              "15                                        EpsilonAI -   \n",
              "16  University of Doha for Science and Technology ...   \n",
              "17                                      Bupa Arabia -   \n",
              "18                     Nahdet Misr Publishing Group -   \n",
              "19                                         DP World -   \n",
              "20                                            Erada -   \n",
              "21                                            QUANT -   \n",
              "22                                            QUANT -   \n",
              "23                               Dornier Group GmbH -   \n",
              "24                        ManpowerGroup Middle East -   \n",
              "25                                     Tyde Digital -   \n",
              "26                                          Options -   \n",
              "27                        ManpowerGroup Middle East -   \n",
              "28                          Persistence Recruitment -   \n",
              "29                                  BBI-Consultancy -   \n",
              "\n",
              "                                job_type   \n",
              "0                               Full Time  \n",
              "1   Full TimePart TimeFreelance / Project  \n",
              "2                               Full Time  \n",
              "3                               Full Time  \n",
              "4                               Full Time  \n",
              "5                               Full Time  \n",
              "6                               Full Time  \n",
              "7                               Full Time  \n",
              "8                               Full Time  \n",
              "9                               Full Time  \n",
              "10                              Full Time  \n",
              "11                              Full Time  \n",
              "12                              Full Time  \n",
              "13                              Full Time  \n",
              "14                              Full Time  \n",
              "15  Full TimePart TimeFreelance / Project  \n",
              "16                              Full Time  \n",
              "17                              Full Time  \n",
              "18                              Full Time  \n",
              "19                              Full Time  \n",
              "20                              Full Time  \n",
              "21                              Full Time  \n",
              "22                              Full Time  \n",
              "23                              Full Time  \n",
              "24                              Full Time  \n",
              "25                              Full Time  \n",
              "26                              Full Time  \n",
              "27                              Full Time  \n",
              "28                              Full Time  \n",
              "29                              Full Time  "
            ],
            "text/html": [
              "\n",
              "  <div id=\"df-8b4d9af6-1a85-4afc-8e60-982200ab0a33\" class=\"colab-df-container\">\n",
              "    <div>\n",
              "<style scoped>\n",
              "    .dataframe tbody tr th:only-of-type {\n",
              "        vertical-align: middle;\n",
              "    }\n",
              "\n",
              "    .dataframe tbody tr th {\n",
              "        vertical-align: top;\n",
              "    }\n",
              "\n",
              "    .dataframe thead th {\n",
              "        text-align: right;\n",
              "    }\n",
              "</style>\n",
              "<table border=\"1\" class=\"dataframe\">\n",
              "  <thead>\n",
              "    <tr style=\"text-align: right;\">\n",
              "      <th></th>\n",
              "      <th>job_title</th>\n",
              "      <th>company_name</th>\n",
              "      <th>job_type</th>\n",
              "    </tr>\n",
              "  </thead>\n",
              "  <tbody>\n",
              "    <tr>\n",
              "      <th>0</th>\n",
              "      <td>SENIOR DATA WAREHOUSE ANALYST</td>\n",
              "      <td>King Faisal Specialist Hospital &amp; Research Cen...</td>\n",
              "      <td>Full Time</td>\n",
              "    </tr>\n",
              "    <tr>\n",
              "      <th>1</th>\n",
              "      <td>Data Analysis/Analytics Instructor (Excel - Po...</td>\n",
              "      <td>EpsilonAI -</td>\n",
              "      <td>Full TimePart TimeFreelance / Project</td>\n",
              "    </tr>\n",
              "    <tr>\n",
              "      <th>2</th>\n",
              "      <td>Data Engineer | Corporate Services | Data AI A...</td>\n",
              "      <td>Dubai Festival City -</td>\n",
              "      <td>Full Time</td>\n",
              "    </tr>\n",
              "    <tr>\n",
              "      <th>3</th>\n",
              "      <td>Data Engineer | Corporate Services | Data AI A...</td>\n",
              "      <td>Al Futtaim Group - Other locations -</td>\n",
              "      <td>Full Time</td>\n",
              "    </tr>\n",
              "    <tr>\n",
              "      <th>4</th>\n",
              "      <td>Data Analytics</td>\n",
              "      <td>DXC -</td>\n",
              "      <td>Full Time</td>\n",
              "    </tr>\n",
              "    <tr>\n",
              "      <th>5</th>\n",
              "      <td>Data Engineer</td>\n",
              "      <td>Carina Wear -</td>\n",
              "      <td>Full Time</td>\n",
              "    </tr>\n",
              "    <tr>\n",
              "      <th>6</th>\n",
              "      <td>Data Analyst - Saudi Arabia</td>\n",
              "      <td>peroptyx network -</td>\n",
              "      <td>Full Time</td>\n",
              "    </tr>\n",
              "    <tr>\n",
              "      <th>7</th>\n",
              "      <td>Data Analyst</td>\n",
              "      <td>ITCan -</td>\n",
              "      <td>Full Time</td>\n",
              "    </tr>\n",
              "    <tr>\n",
              "      <th>8</th>\n",
              "      <td>Project Manager - Data Center Design/Construction</td>\n",
              "      <td>Jones Lang LaSalle Incorporated -</td>\n",
              "      <td>Full Time</td>\n",
              "    </tr>\n",
              "    <tr>\n",
              "      <th>9</th>\n",
              "      <td>Data Analytics</td>\n",
              "      <td>DXC.technology -</td>\n",
              "      <td>Full Time</td>\n",
              "    </tr>\n",
              "    <tr>\n",
              "      <th>10</th>\n",
              "      <td>Head of Data &amp; Analytics</td>\n",
              "      <td>eVision -</td>\n",
              "      <td>Full Time</td>\n",
              "    </tr>\n",
              "    <tr>\n",
              "      <th>11</th>\n",
              "      <td>Science Teacher</td>\n",
              "      <td>Nefertari International School -</td>\n",
              "      <td>Full Time</td>\n",
              "    </tr>\n",
              "    <tr>\n",
              "      <th>12</th>\n",
              "      <td>Senior Data Analyst</td>\n",
              "      <td>Sceel.io -</td>\n",
              "      <td>Full Time</td>\n",
              "    </tr>\n",
              "    <tr>\n",
              "      <th>13</th>\n",
              "      <td>Salesforce Analyst</td>\n",
              "      <td>ManpowerGroup Middle East -</td>\n",
              "      <td>Full Time</td>\n",
              "    </tr>\n",
              "    <tr>\n",
              "      <th>14</th>\n",
              "      <td>Senior Outsystems Developer -UAE</td>\n",
              "      <td>LINK Development -</td>\n",
              "      <td>Full Time</td>\n",
              "    </tr>\n",
              "    <tr>\n",
              "      <th>15</th>\n",
              "      <td>Data Science Instructor</td>\n",
              "      <td>EpsilonAI -</td>\n",
              "      <td>Full TimePart TimeFreelance / Project</td>\n",
              "    </tr>\n",
              "    <tr>\n",
              "      <th>16</th>\n",
              "      <td>Faculty - Data Science and Cyber Security</td>\n",
              "      <td>University of Doha for Science and Technology ...</td>\n",
              "      <td>Full Time</td>\n",
              "    </tr>\n",
              "    <tr>\n",
              "      <th>17</th>\n",
              "      <td>Assistant Manager - Data Science</td>\n",
              "      <td>Bupa Arabia -</td>\n",
              "      <td>Full Time</td>\n",
              "    </tr>\n",
              "    <tr>\n",
              "      <th>18</th>\n",
              "      <td>master Data Supervisor</td>\n",
              "      <td>Nahdet Misr Publishing Group -</td>\n",
              "      <td>Full Time</td>\n",
              "    </tr>\n",
              "    <tr>\n",
              "      <th>19</th>\n",
              "      <td>Group Data Engineer</td>\n",
              "      <td>DP World -</td>\n",
              "      <td>Full Time</td>\n",
              "    </tr>\n",
              "    <tr>\n",
              "      <th>20</th>\n",
              "      <td>Data Engineer</td>\n",
              "      <td>Erada -</td>\n",
              "      <td>Full Time</td>\n",
              "    </tr>\n",
              "    <tr>\n",
              "      <th>21</th>\n",
              "      <td>Data Analyst</td>\n",
              "      <td>QUANT -</td>\n",
              "      <td>Full Time</td>\n",
              "    </tr>\n",
              "    <tr>\n",
              "      <th>22</th>\n",
              "      <td>Data Engineering intern</td>\n",
              "      <td>QUANT -</td>\n",
              "      <td>Full Time</td>\n",
              "    </tr>\n",
              "    <tr>\n",
              "      <th>23</th>\n",
              "      <td>Data Manager / Documents Controller (m/f)</td>\n",
              "      <td>Dornier Group GmbH -</td>\n",
              "      <td>Full Time</td>\n",
              "    </tr>\n",
              "    <tr>\n",
              "      <th>24</th>\n",
              "      <td>Data Engineer</td>\n",
              "      <td>ManpowerGroup Middle East -</td>\n",
              "      <td>Full Time</td>\n",
              "    </tr>\n",
              "    <tr>\n",
              "      <th>25</th>\n",
              "      <td>Data Engineer</td>\n",
              "      <td>Tyde Digital -</td>\n",
              "      <td>Full Time</td>\n",
              "    </tr>\n",
              "    <tr>\n",
              "      <th>26</th>\n",
              "      <td>Junior Data Analyst</td>\n",
              "      <td>Options -</td>\n",
              "      <td>Full Time</td>\n",
              "    </tr>\n",
              "    <tr>\n",
              "      <th>27</th>\n",
              "      <td>Architect &amp; Data Lead</td>\n",
              "      <td>ManpowerGroup Middle East -</td>\n",
              "      <td>Full Time</td>\n",
              "    </tr>\n",
              "    <tr>\n",
              "      <th>28</th>\n",
              "      <td>Solution Architect / Solution Designer - Data;...</td>\n",
              "      <td>Persistence Recruitment -</td>\n",
              "      <td>Full Time</td>\n",
              "    </tr>\n",
              "    <tr>\n",
              "      <th>29</th>\n",
              "      <td>Data Engineer lead</td>\n",
              "      <td>BBI-Consultancy -</td>\n",
              "      <td>Full Time</td>\n",
              "    </tr>\n",
              "  </tbody>\n",
              "</table>\n",
              "</div>\n",
              "    <div class=\"colab-df-buttons\">\n",
              "\n",
              "  <div class=\"colab-df-container\">\n",
              "    <button class=\"colab-df-convert\" onclick=\"convertToInteractive('df-8b4d9af6-1a85-4afc-8e60-982200ab0a33')\"\n",
              "            title=\"Convert this dataframe to an interactive table.\"\n",
              "            style=\"display:none;\">\n",
              "\n",
              "  <svg xmlns=\"http://www.w3.org/2000/svg\" height=\"24px\" viewBox=\"0 -960 960 960\">\n",
              "    <path d=\"M120-120v-720h720v720H120Zm60-500h600v-160H180v160Zm220 220h160v-160H400v160Zm0 220h160v-160H400v160ZM180-400h160v-160H180v160Zm440 0h160v-160H620v160ZM180-180h160v-160H180v160Zm440 0h160v-160H620v160Z\"/>\n",
              "  </svg>\n",
              "    </button>\n",
              "\n",
              "  <style>\n",
              "    .colab-df-container {\n",
              "      display:flex;\n",
              "      gap: 12px;\n",
              "    }\n",
              "\n",
              "    .colab-df-convert {\n",
              "      background-color: #E8F0FE;\n",
              "      border: none;\n",
              "      border-radius: 50%;\n",
              "      cursor: pointer;\n",
              "      display: none;\n",
              "      fill: #1967D2;\n",
              "      height: 32px;\n",
              "      padding: 0 0 0 0;\n",
              "      width: 32px;\n",
              "    }\n",
              "\n",
              "    .colab-df-convert:hover {\n",
              "      background-color: #E2EBFA;\n",
              "      box-shadow: 0px 1px 2px rgba(60, 64, 67, 0.3), 0px 1px 3px 1px rgba(60, 64, 67, 0.15);\n",
              "      fill: #174EA6;\n",
              "    }\n",
              "\n",
              "    .colab-df-buttons div {\n",
              "      margin-bottom: 4px;\n",
              "    }\n",
              "\n",
              "    [theme=dark] .colab-df-convert {\n",
              "      background-color: #3B4455;\n",
              "      fill: #D2E3FC;\n",
              "    }\n",
              "\n",
              "    [theme=dark] .colab-df-convert:hover {\n",
              "      background-color: #434B5C;\n",
              "      box-shadow: 0px 1px 3px 1px rgba(0, 0, 0, 0.15);\n",
              "      filter: drop-shadow(0px 1px 2px rgba(0, 0, 0, 0.3));\n",
              "      fill: #FFFFFF;\n",
              "    }\n",
              "  </style>\n",
              "\n",
              "    <script>\n",
              "      const buttonEl =\n",
              "        document.querySelector('#df-8b4d9af6-1a85-4afc-8e60-982200ab0a33 button.colab-df-convert');\n",
              "      buttonEl.style.display =\n",
              "        google.colab.kernel.accessAllowed ? 'block' : 'none';\n",
              "\n",
              "      async function convertToInteractive(key) {\n",
              "        const element = document.querySelector('#df-8b4d9af6-1a85-4afc-8e60-982200ab0a33');\n",
              "        const dataTable =\n",
              "          await google.colab.kernel.invokeFunction('convertToInteractive',\n",
              "                                                    [key], {});\n",
              "        if (!dataTable) return;\n",
              "\n",
              "        const docLinkHtml = 'Like what you see? Visit the ' +\n",
              "          '<a target=\"_blank\" href=https://colab.research.google.com/notebooks/data_table.ipynb>data table notebook</a>'\n",
              "          + ' to learn more about interactive tables.';\n",
              "        element.innerHTML = '';\n",
              "        dataTable['output_type'] = 'display_data';\n",
              "        await google.colab.output.renderOutput(dataTable, element);\n",
              "        const docLink = document.createElement('div');\n",
              "        docLink.innerHTML = docLinkHtml;\n",
              "        element.appendChild(docLink);\n",
              "      }\n",
              "    </script>\n",
              "  </div>\n",
              "\n",
              "\n",
              "<div id=\"df-358a498e-df6f-48a9-a9ca-45d881c1a027\">\n",
              "  <button class=\"colab-df-quickchart\" onclick=\"quickchart('df-358a498e-df6f-48a9-a9ca-45d881c1a027')\"\n",
              "            title=\"Suggest charts.\"\n",
              "            style=\"display:none;\">\n",
              "\n",
              "<svg xmlns=\"http://www.w3.org/2000/svg\" height=\"24px\"viewBox=\"0 0 24 24\"\n",
              "     width=\"24px\">\n",
              "    <g>\n",
              "        <path d=\"M19 3H5c-1.1 0-2 .9-2 2v14c0 1.1.9 2 2 2h14c1.1 0 2-.9 2-2V5c0-1.1-.9-2-2-2zM9 17H7v-7h2v7zm4 0h-2V7h2v10zm4 0h-2v-4h2v4z\"/>\n",
              "    </g>\n",
              "</svg>\n",
              "  </button>\n",
              "\n",
              "<style>\n",
              "  .colab-df-quickchart {\n",
              "      --bg-color: #E8F0FE;\n",
              "      --fill-color: #1967D2;\n",
              "      --hover-bg-color: #E2EBFA;\n",
              "      --hover-fill-color: #174EA6;\n",
              "      --disabled-fill-color: #AAA;\n",
              "      --disabled-bg-color: #DDD;\n",
              "  }\n",
              "\n",
              "  [theme=dark] .colab-df-quickchart {\n",
              "      --bg-color: #3B4455;\n",
              "      --fill-color: #D2E3FC;\n",
              "      --hover-bg-color: #434B5C;\n",
              "      --hover-fill-color: #FFFFFF;\n",
              "      --disabled-bg-color: #3B4455;\n",
              "      --disabled-fill-color: #666;\n",
              "  }\n",
              "\n",
              "  .colab-df-quickchart {\n",
              "    background-color: var(--bg-color);\n",
              "    border: none;\n",
              "    border-radius: 50%;\n",
              "    cursor: pointer;\n",
              "    display: none;\n",
              "    fill: var(--fill-color);\n",
              "    height: 32px;\n",
              "    padding: 0;\n",
              "    width: 32px;\n",
              "  }\n",
              "\n",
              "  .colab-df-quickchart:hover {\n",
              "    background-color: var(--hover-bg-color);\n",
              "    box-shadow: 0 1px 2px rgba(60, 64, 67, 0.3), 0 1px 3px 1px rgba(60, 64, 67, 0.15);\n",
              "    fill: var(--button-hover-fill-color);\n",
              "  }\n",
              "\n",
              "  .colab-df-quickchart-complete:disabled,\n",
              "  .colab-df-quickchart-complete:disabled:hover {\n",
              "    background-color: var(--disabled-bg-color);\n",
              "    fill: var(--disabled-fill-color);\n",
              "    box-shadow: none;\n",
              "  }\n",
              "\n",
              "  .colab-df-spinner {\n",
              "    border: 2px solid var(--fill-color);\n",
              "    border-color: transparent;\n",
              "    border-bottom-color: var(--fill-color);\n",
              "    animation:\n",
              "      spin 1s steps(1) infinite;\n",
              "  }\n",
              "\n",
              "  @keyframes spin {\n",
              "    0% {\n",
              "      border-color: transparent;\n",
              "      border-bottom-color: var(--fill-color);\n",
              "      border-left-color: var(--fill-color);\n",
              "    }\n",
              "    20% {\n",
              "      border-color: transparent;\n",
              "      border-left-color: var(--fill-color);\n",
              "      border-top-color: var(--fill-color);\n",
              "    }\n",
              "    30% {\n",
              "      border-color: transparent;\n",
              "      border-left-color: var(--fill-color);\n",
              "      border-top-color: var(--fill-color);\n",
              "      border-right-color: var(--fill-color);\n",
              "    }\n",
              "    40% {\n",
              "      border-color: transparent;\n",
              "      border-right-color: var(--fill-color);\n",
              "      border-top-color: var(--fill-color);\n",
              "    }\n",
              "    60% {\n",
              "      border-color: transparent;\n",
              "      border-right-color: var(--fill-color);\n",
              "    }\n",
              "    80% {\n",
              "      border-color: transparent;\n",
              "      border-right-color: var(--fill-color);\n",
              "      border-bottom-color: var(--fill-color);\n",
              "    }\n",
              "    90% {\n",
              "      border-color: transparent;\n",
              "      border-bottom-color: var(--fill-color);\n",
              "    }\n",
              "  }\n",
              "</style>\n",
              "\n",
              "  <script>\n",
              "    async function quickchart(key) {\n",
              "      const quickchartButtonEl =\n",
              "        document.querySelector('#' + key + ' button');\n",
              "      quickchartButtonEl.disabled = true;  // To prevent multiple clicks.\n",
              "      quickchartButtonEl.classList.add('colab-df-spinner');\n",
              "      try {\n",
              "        const charts = await google.colab.kernel.invokeFunction(\n",
              "            'suggestCharts', [key], {});\n",
              "      } catch (error) {\n",
              "        console.error('Error during call to suggestCharts:', error);\n",
              "      }\n",
              "      quickchartButtonEl.classList.remove('colab-df-spinner');\n",
              "      quickchartButtonEl.classList.add('colab-df-quickchart-complete');\n",
              "    }\n",
              "    (() => {\n",
              "      let quickchartButtonEl =\n",
              "        document.querySelector('#df-358a498e-df6f-48a9-a9ca-45d881c1a027 button');\n",
              "      quickchartButtonEl.style.display =\n",
              "        google.colab.kernel.accessAllowed ? 'block' : 'none';\n",
              "    })();\n",
              "  </script>\n",
              "</div>\n",
              "    </div>\n",
              "  </div>\n"
            ]
          },
          "metadata": {},
          "execution_count": 138
        }
      ]
    }
  ]
}